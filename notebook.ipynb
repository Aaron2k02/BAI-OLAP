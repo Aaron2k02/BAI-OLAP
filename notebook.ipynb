{
 "cells": [
  {
   "cell_type": "code",
   "execution_count": 13,
   "metadata": {},
   "outputs": [],
   "source": [
    "import pandas as pd\n",
    "import glob \n",
    "import time\n",
    "import duckdb"
   ]
  },
  {
   "cell_type": "code",
   "execution_count": 14,
   "metadata": {},
   "outputs": [],
   "source": [
    "conn = duckdb.connect()"
   ]
  },
  {
   "cell_type": "markdown",
   "metadata": {},
   "source": [
    "### 01. Data Modelling"
   ]
  },
  {
   "cell_type": "code",
   "execution_count": 15,
   "metadata": {},
   "outputs": [],
   "source": [
    "# Manually define the order of schema files\n",
    "schema_files_order = [\n",
    "    \"dim_seller_locations.sql\", \n",
    "    \"dim_product_categories.sql\", \n",
    "    \"dim_payment_methods.sql\", \n",
    "    \"dim_geography.sql\", \n",
    "    \"dim_demographics.sql\", \n",
    "    \"dim_delivery_status.sql\", \n",
    "    \"dim_brands.sql\", \n",
    "    \"dim_customers.sql\", \n",
    "    \"dim_products.sql\", \n",
    "    \"dim_sellers.sql\", \n",
    "    \"sales_fact.sql\"\n",
    "]\n",
    "\n",
    "schema_directory = \"./schema/\"\n",
    "\n",
    "# Execute each SQL file in the correct order\n",
    "for sql_file_name in schema_files_order:\n",
    "    sql_file_path = schema_directory + sql_file_name\n",
    "    with open(sql_file_path, 'r') as file:\n",
    "        sql_query = file.read()\n",
    "    conn.execute(sql_query)"
   ]
  },
  {
   "cell_type": "code",
   "execution_count": 16,
   "metadata": {},
   "outputs": [],
   "source": [
    "# Define the directory where CSV data is stored\n",
    "csv_directory = \"./olap-table/\"\n",
    "\n",
    "# List of CSV file names corresponding to the schema\n",
    "csv_files = [\n",
    "    (\"seller_locations.csv\", \"dim_seller_locations\"),\n",
    "    (\"product_categories.csv\", \"dim_product_categories\"),\n",
    "    (\"payment_methods.csv\", \"dim_payment_methods\"),\n",
    "    (\"geography.csv\", \"dim_geography\"),\n",
    "    (\"demographics.csv\", \"dim_demographics\"),\n",
    "    (\"delivery_status.csv\", \"dim_delivery_status\"),\n",
    "    (\"brands.csv\", \"dim_brands\"),\n",
    "    (\"customers.csv\", \"dim_customers\"),\n",
    "    (\"products.csv\", \"dim_products\"),\n",
    "    (\"sellers.csv\", \"dim_sellers\"),\n",
    "    (\"sales_fact.csv\", \"sales_fact\"),\n",
    "]\n",
    "\n",
    "# Load data into DuckDB from CSV files\n",
    "for csv_file, table_name in csv_files:\n",
    "    csv_path = csv_directory + csv_file\n",
    "    conn.execute(f\"COPY {table_name} FROM '{csv_path}' (DELIMITER ',', HEADER TRUE);\")"
   ]
  },
  {
   "cell_type": "markdown",
   "metadata": {},
   "source": [
    "### 2. Configuring the OLAP Cube\n",
    "\n",
    "- Pre-aggregating the data to mimic the behavior of an OLAP cube.\n",
    "- Storing these aggregations in tables or materialized views for reusability."
   ]
  },
  {
   "cell_type": "code",
   "execution_count": null,
   "metadata": {},
   "outputs": [],
   "source": [
    "# Define aggregation queries for OLAP functionality\n",
    "olap_queries = [\n",
    "    # Roll-up: Aggregate sales by product category and geography\n",
    "    {\n",
    "        \"name\": \"sales_by_category_region\",\n",
    "        \"query\": \"\"\"\n",
    "            CREATE TABLE sales_by_category_region AS\n",
    "            SELECT\n",
    "                pc.Category AS product_category,\n",
    "                geo.Country AS country,\n",
    "                geo.State AS state,\n",
    "                SUM(fact.Total_Amount) AS total_sales,\n",
    "                COUNT(fact.Order_ID) AS transaction_count\n",
    "            FROM sales_fact fact\n",
    "            JOIN dim_products prod ON fact.Product_ID = prod.Product_ID\n",
    "            JOIN dim_product_categories pc ON prod.Category_ID = pc.Category_ID\n",
    "            JOIN dim_customers cust ON fact.Customer_ID = cust.Customer_ID\n",
    "            JOIN dim_geography geo ON cust.Geography_ID = geo.Geography_ID\n",
    "            GROUP BY ROLLUP (pc.Category, geo.Country, geo.State);\n",
    "        \"\"\"\n",
    "    },\n",
    "    # Drill-down: Aggregate sales by product and customer demographics\n",
    "    {\n",
    "        \"name\": \"sales_by_product_customer\",\n",
    "        \"query\": \"\"\"\n",
    "            CREATE TABLE sales_by_product_customer AS\n",
    "            SELECT\n",
    "                prod.Product_Name AS product_name,\n",
    "                demo.Age_Group AS customer_age_group,\n",
    "                demo.Gender AS customer_gender,\n",
    "                SUM(fact.Total_Amount) AS total_sales,\n",
    "                AVG(fact.Total_Amount) AS average_order_value,\n",
    "                COUNT(fact.Order_ID) AS purchase_frequency\n",
    "            FROM sales_fact fact\n",
    "            JOIN dim_products prod ON fact.Product_ID = prod.Product_ID\n",
    "            JOIN dim_customers cust ON fact.Customer_ID = cust.Customer_ID\n",
    "            JOIN dim_demographics demo ON cust.Demographics_ID = demo.Demographics_ID\n",
    "            GROUP BY prod.Product_Name, demo.Age_Group, demo.Gender;\n",
    "        \"\"\"\n",
    "    },\n",
    "    # Time-based aggregation: Sales by year and month\n",
    "    {\n",
    "        \"name\": \"sales_by_time\",\n",
    "        \"query\": \"\"\"\n",
    "            CREATE TABLE sales_by_time AS\n",
    "            SELECT\n",
    "                EXTRACT(YEAR FROM fact.Order_Date) AS year,\n",
    "                EXTRACT(MONTH FROM fact.Order_Date) AS month,\n",
    "                SUM(fact.Total_Amount) AS total_sales,\n",
    "                COUNT(fact.Order_ID) AS transaction_count\n",
    "            FROM sales_fact fact\n",
    "            GROUP BY CUBE (EXTRACT(YEAR FROM fact.Order_Date), EXTRACT(MONTH FROM fact.Order_Date));\n",
    "        \"\"\"\n",
    "    },\n",
    "    # # Analyze how delivery status impacts sales.\n",
    "    # {\n",
    "    #     \"name\": \"sales_by_delivery_status\",\n",
    "    #     \"query\": \"\"\"\n",
    "    #         CREATE TABLE sales_by_delivery_status AS\n",
    "    #         SELECT\n",
    "    #             ds.Delivery_Status AS delivery_status,\n",
    "    #             SUM(fact.Total_Amount) AS total_sales,\n",
    "    #             COUNT(fact.Order_ID) AS transaction_count\n",
    "    #         FROM sales_fact fact\n",
    "    #         JOIN dim_delivery_status ds ON fact.Delivery_Status_ID = ds.Delivery_Status_ID\n",
    "    #         GROUP BY ds.Delivery_Status;\n",
    "    #     \"\"\"\n",
    "    # },\n",
    "    # # Compare sales performance across different payment methods.\n",
    "    # {\n",
    "    #     \"name\": \"sales_by_payment_method\",\n",
    "    #     \"query\": \"\"\"\n",
    "    #         CREATE TABLE sales_by_payment_method AS\n",
    "    #         SELECT\n",
    "    #             pm.Payment_Method AS payment_method,\n",
    "    #             SUM(fact.Total_Amount) AS total_sales,\n",
    "    #             COUNT(fact.Order_ID) AS transaction_count\n",
    "    #         FROM sales_fact fact\n",
    "    #         JOIN dim_payment_methods pm ON fact.Payment_Method_ID = pm.Payment_Method_ID\n",
    "    #         GROUP BY pm.Payment_Method;\n",
    "    #     \"\"\"\n",
    "    # }\n",
    "]\n",
    "\n",
    "# Execute OLAP queries to create pre-aggregated tables\n",
    "for olap in olap_queries:\n",
    "    conn.execute(olap[\"query\"])\n",
    "    print(f\"Created OLAP table: {olap['name']}\")"
   ]
  },
  {
   "cell_type": "markdown",
   "metadata": {},
   "source": [
    "### 3. Perform OLAP Operations <br/>"
   ]
  },
  {
   "cell_type": "markdown",
   "metadata": {},
   "source": [
    "#### a) Roll-up (Summarize Data)\n",
    "Total sales by product category across all regions."
   ]
  },
  {
   "cell_type": "code",
   "execution_count": 19,
   "metadata": {},
   "outputs": [
    {
     "name": "stdout",
     "output_type": "stream",
     "text": [
      "Roll-up Result:\n",
      "  product_category  total_sales\n",
      "0  Home Appliances  23555751.36\n",
      "1            Books  23996278.00\n",
      "2           Beauty  25234977.52\n",
      "3      Electronics  25157359.96\n",
      "4        Groceries  24107356.25\n",
      "5          Fashion  25526498.03\n"
     ]
    }
   ],
   "source": [
    "rollup_query = \"\"\"\n",
    "SELECT product_category, SUM(total_sales) AS total_sales\n",
    "FROM sales_by_category_region\n",
    "GROUP BY product_category;\n",
    "\"\"\"\n",
    "rollup_result = conn.execute(rollup_query).fetch_df()\n",
    "print(\"Roll-up Result:\")\n",
    "print(rollup_result)"
   ]
  },
  {
   "cell_type": "code",
   "execution_count": 30,
   "metadata": {},
   "outputs": [
    {
     "name": "stdout",
     "output_type": "stream",
     "text": [
      "Roll-up Result:\n",
      "  product_category country  total_sales  total_transactions\n",
      "0          Fashion   India  25526498.03              8636.0\n",
      "1           Beauty   India  25234977.52              8576.0\n",
      "2      Electronics   India  25157359.96              8519.0\n",
      "3        Groceries   India  24107356.25              8148.0\n",
      "4            Books   India  23996278.00              8150.0\n",
      "5  Home Appliances   India  23555751.36              7971.0\n"
     ]
    }
   ],
   "source": [
    "# Step 2: Define OLAP operations\n",
    "rollup_query = \"\"\"\n",
    "    SELECT \n",
    "        product_category,\n",
    "        country,\n",
    "        SUM(total_sales) AS total_sales,\n",
    "        SUM(transaction_count) AS total_transactions\n",
    "    FROM sales_by_category_region\n",
    "    GROUP BY product_category, country\n",
    "    ORDER BY total_sales DESC;\n",
    "\"\"\"\n",
    "rollup_result = conn.execute(rollup_query).fetch_df()\n",
    "print(\"Roll-up Result:\")\n",
    "print(rollup_result)"
   ]
  },
  {
   "cell_type": "markdown",
   "metadata": {},
   "source": [
    "#### Drill-down (Detailed Data)\n",
    "Total sales by individual product for a specific customer age group."
   ]
  },
  {
   "cell_type": "code",
   "execution_count": 27,
   "metadata": {},
   "outputs": [
    {
     "name": "stdout",
     "output_type": "stream",
     "text": [
      "Drill-down Result:\n",
      "       product_name  total_sales\n",
      "0      Product_5774      6739.58\n",
      "1      Product_4839       770.20\n",
      "2      Product_5728      1163.35\n",
      "3      Product_6007       754.81\n",
      "4      Product_3800      9726.13\n",
      "...             ...          ...\n",
      "10355  Product_3255      7678.18\n",
      "10356  Product_5493      7673.29\n",
      "10357  Product_7509      1192.95\n",
      "10358  Product_3406      3662.27\n",
      "10359  Product_4482       699.77\n",
      "\n",
      "[10360 rows x 2 columns]\n"
     ]
    }
   ],
   "source": [
    "drilldown_query = \"\"\"\n",
    "SELECT product_name, total_sales\n",
    "FROM sales_by_product_customer\n",
    "WHERE customer_age_group = '26-35';\n",
    "\"\"\"\n",
    "drilldown_result = conn.execute(drilldown_query).fetch_df()\n",
    "print(\"Drill-down Result:\")\n",
    "print(drilldown_result)"
   ]
  },
  {
   "cell_type": "code",
   "execution_count": 31,
   "metadata": {},
   "outputs": [
    {
     "name": "stdout",
     "output_type": "stream",
     "text": [
      "Drill-down Result:\n",
      "       product_name customer_age_group customer_gender  total_sales\n",
      "0      Product_8840              18-25          Female     23151.14\n",
      "1      Product_9653              18-25            Male     21992.52\n",
      "2      Product_2231              18-25           Other     20321.79\n",
      "3      Product_9018              18-25           Other     20097.86\n",
      "4      Product_7866              18-25            Male     19584.20\n",
      "...             ...                ...             ...          ...\n",
      "10593  Product_9013              18-25          Female      -141.92\n",
      "10594  Product_6522              18-25           Other      -160.89\n",
      "10595  Product_8488              18-25           Other      -161.11\n",
      "10596  Product_4706              18-25          Female      -174.19\n",
      "10597  Product_2279              18-25          Female      -174.83\n",
      "\n",
      "[10598 rows x 4 columns]\n"
     ]
    }
   ],
   "source": [
    "# Drill-down: Get detailed data\n",
    "drilldown_query_2 = \"\"\"\n",
    "SELECT \n",
    "    product_name,\n",
    "    customer_age_group,\n",
    "    customer_gender,\n",
    "    total_sales\n",
    "FROM sales_by_product_customer\n",
    "WHERE customer_age_group = '18-25'\n",
    "ORDER BY total_sales DESC;\n",
    "\"\"\"\n",
    "\n",
    "drilldown_result_2 = conn.execute(drilldown_query_2).fetch_df()\n",
    "print(\"Drill-down Result:\")\n",
    "print(drilldown_result_2)"
   ]
  },
  {
   "cell_type": "markdown",
   "metadata": {},
   "source": [
    "### Slice and Dice (Subset of Data)\n",
    "Filter sales for a specific region and product category."
   ]
  },
  {
   "cell_type": "code",
   "execution_count": 32,
   "metadata": {},
   "outputs": [
    {
     "name": "stdout",
     "output_type": "stream",
     "text": [
      "Slide-and-Dice Result:\n",
      "   year  month  total_sales\n",
      "0  2023      5  12479284.45\n",
      "1  2023      6  12456978.49\n",
      "2  2023      7  12422850.89\n"
     ]
    }
   ],
   "source": [
    "# Slice and Dice: View specific subsets of data\n",
    "slice_dice_query = \"\"\"\n",
    "SELECT \n",
    "    year,\n",
    "    month,\n",
    "    total_sales\n",
    "FROM sales_by_time\n",
    "WHERE year = 2023 AND month IN (5, 6, 7)  -- Slice for specific year and months\n",
    "ORDER BY year, month;\n",
    "\"\"\"\n",
    "\n",
    "slice_dice_query_result = conn.execute(slice_dice_query).fetch_df()\n",
    "print(\"Slide-and-Dice Result:\")\n",
    "print(slice_dice_query_result)"
   ]
  },
  {
   "cell_type": "markdown",
   "metadata": {},
   "source": [
    "#### Pivot (Reorient Data Dimensions)\n",
    "Pivot total sales by region for each product category."
   ]
  },
  {
   "cell_type": "code",
   "execution_count": 33,
   "metadata": {},
   "outputs": [
    {
     "name": "stdout",
     "output_type": "stream",
     "text": [
      "Pivot Result:\n",
      "  product_category  sales_usa  sales_canada  sales_uk\n",
      "0  Home Appliances        0.0           0.0       0.0\n",
      "1            Books        0.0           0.0       0.0\n",
      "2           Beauty        0.0           0.0       0.0\n",
      "3      Electronics        0.0           0.0       0.0\n",
      "4        Groceries        0.0           0.0       0.0\n",
      "5          Fashion        0.0           0.0       0.0\n"
     ]
    }
   ],
   "source": [
    "# Pivot: Reorient data dimensions\n",
    "pivot_query = \"\"\"\n",
    "SELECT \n",
    "    product_category,\n",
    "    SUM(CASE WHEN country = 'USA' THEN total_sales ELSE 0 END) AS sales_usa,\n",
    "    SUM(CASE WHEN country = 'Canada' THEN total_sales ELSE 0 END) AS sales_canada,\n",
    "    SUM(CASE WHEN country = 'UK' THEN total_sales ELSE 0 END) AS sales_uk\n",
    "FROM sales_by_category_region\n",
    "GROUP BY product_category;\n",
    "\"\"\"\n",
    "pivot_result = conn.execute(pivot_query).fetch_df()\n",
    "print(\"Pivot Result:\")\n",
    "print(pivot_result)"
   ]
  },
  {
   "cell_type": "markdown",
   "metadata": {},
   "source": [
    "### 3. Document Queries\n",
    "Use Python to document all queries programmatically."
   ]
  },
  {
   "cell_type": "code",
   "execution_count": 34,
   "metadata": {},
   "outputs": [],
   "source": [
    "documentation = [\n",
    "    {\n",
    "        \"table\": \"sales_by_category_region\",\n",
    "        \"purpose\": \"Pre-computed sales totals by product category and region.\",\n",
    "        \"query\": olap_queries[0][\"query\"]\n",
    "    },\n",
    "    {\n",
    "        \"table\": \"sales_by_product_customer\",\n",
    "        \"purpose\": \"Pre-computed sales totals by product and customer demographics.\",\n",
    "        \"query\": olap_queries[1][\"query\"]\n",
    "    },\n",
    "    {\n",
    "        \"table\": \"sales_by_time\",\n",
    "        \"purpose\": \"Pre-computed sales totals by year and month.\",\n",
    "        \"query\": olap_queries[2][\"query\"]\n",
    "    }\n",
    "]\n",
    "\n",
    "# Save documentation to a file\n",
    "with open(\"olap_documentation.txt\", \"w\") as doc_file:\n",
    "    for entry in documentation:\n",
    "        doc_file.write(f\"Table: {entry['table']}\\n\")\n",
    "        doc_file.write(f\"Purpose: {entry['purpose']}\\n\")\n",
    "        doc_file.write(f\"Query:\\n{entry['query']}\\n\\n\")"
   ]
  },
  {
   "cell_type": "code",
   "execution_count": 35,
   "metadata": {},
   "outputs": [],
   "source": [
    "conn.close()"
   ]
  }
 ],
 "metadata": {
  "kernelspec": {
   "display_name": "venv",
   "language": "python",
   "name": "python3"
  },
  "language_info": {
   "codemirror_mode": {
    "name": "ipython",
    "version": 3
   },
   "file_extension": ".py",
   "mimetype": "text/x-python",
   "name": "python",
   "nbconvert_exporter": "python",
   "pygments_lexer": "ipython3",
   "version": "3.8.0"
  }
 },
 "nbformat": 4,
 "nbformat_minor": 2
}
